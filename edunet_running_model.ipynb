{
  "nbformat": 4,
  "nbformat_minor": 0,
  "metadata": {
    "colab": {
      "provenance": []
    },
    "kernelspec": {
      "name": "python3",
      "display_name": "Python 3"
    },
    "language_info": {
      "name": "python"
    }
  },
  "cells": [
    {
      "cell_type": "code",
      "source": [
        "import pandas as pd\n",
        "import numpy as np\n",
        "from sklearn.model_selection import train_test_split\n",
        "from sklearn.ensemble import RandomForestRegressor\n",
        "from sklearn.metrics import mean_squared_error, r2_score\n",
        "from sklearn.preprocessing import StandardScaler\n",
        "import joblib  # For saving the model\n",
        "\n",
        "# Load datasets\n",
        "exercise_df = pd.read_csv('exercise.csv')\n",
        "calories_df = pd.read_csv('calories.csv')\n",
        "\n",
        "# Merge datasets on User_ID\n",
        "merged_df = pd.merge(exercise_df, calories_df, on='User_ID')\n",
        "\n",
        "# Data Preprocessing\n",
        "# Convert gender to numerical (0 for female, 1 for male)\n",
        "merged_df['Gender'] = merged_df['Gender'].map({'female': 0, 'male': 1})\n",
        "\n",
        "# Select features and target\n",
        "X = merged_df[['Gender', 'Age', 'Height', 'Weight', 'Duration', 'Heart_Rate', 'Body_Temp']]\n",
        "y = merged_df['Calories']\n",
        "\n",
        "# Split data into training and testing sets\n",
        "X_train, X_test, y_train, y_test = train_test_split(X, y, test_size=0.2, random_state=42)\n",
        "\n",
        "# Feature Scaling\n",
        "scaler = StandardScaler()\n",
        "X_train_scaled = scaler.fit_transform(X_train)\n",
        "X_test_scaled = scaler.transform(X_test)\n",
        "\n",
        "# Initialize and train the model\n",
        "model = RandomForestRegressor(n_estimators=100, random_state=42)\n",
        "model.fit(X_train_scaled, y_train)\n",
        "\n",
        "# Predict and evaluate\n",
        "y_pred = model.predict(X_test_scaled)\n",
        "mse = mean_squared_error(y_test, y_pred)\n",
        "r2 = r2_score(y_test, y_pred)\n",
        "\n",
        "print(f\"Mean Squared Error: {mse:.2f}\")\n",
        "print(f\"R-squared Score: {r2:.2f}\")\n",
        "\n",
        "# Save model and scaler for deployment\n",
        "joblib.dump(model, 'calorie_model.pkl')\n",
        "joblib.dump(scaler, 'scaler.pkl')"
      ],
      "metadata": {
        "colab": {
          "base_uri": "https://localhost:8080/"
        },
        "id": "O47bmofhanpT",
        "outputId": "4d095453-28a7-46dd-edf1-825b11647db3"
      },
      "execution_count": 2,
      "outputs": [
        {
          "output_type": "stream",
          "name": "stdout",
          "text": [
            "Mean Squared Error: 7.13\n",
            "R-squared Score: 1.00\n"
          ]
        },
        {
          "output_type": "execute_result",
          "data": {
            "text/plain": [
              "['scaler.pkl']"
            ]
          },
          "metadata": {},
          "execution_count": 2
        }
      ]
    },
    {
      "cell_type": "code",
      "source": [
        "from sklearn.model_selection import cross_val_score\n",
        "scores = cross_val_score(model, X, y, cv=5, scoring='r2')\n",
        "print(f\"Cross-Validation R² Scores: {scores}\")\n",
        "print(f\"Average R²: {scores.mean()}\")"
      ],
      "metadata": {
        "id": "g0f-brXEbgDw",
        "outputId": "a8c7734e-67a5-47dc-9318-6a6d3a4ec716",
        "colab": {
          "base_uri": "https://localhost:8080/"
        }
      },
      "execution_count": 3,
      "outputs": [
        {
          "output_type": "stream",
          "name": "stdout",
          "text": [
            "Cross-Validation R² Scores: [0.99809626 0.99798705 0.99802125 0.9977546  0.99805223]\n",
            "Average R²: 0.9979822779353107\n"
          ]
        }
      ]
    },
    {
      "cell_type": "code",
      "source": [
        "importances = model.feature_importances_\n",
        "feature_names = X.columns\n",
        "for feature, importance in zip(feature_names, importances):\n",
        "    print(f\"{feature}: {importance:.4f}\")"
      ],
      "metadata": {
        "id": "4dvpeW_NbzRu",
        "outputId": "42308f25-1cea-4050-9783-75c97c030085",
        "colab": {
          "base_uri": "https://localhost:8080/"
        }
      },
      "execution_count": 4,
      "outputs": [
        {
          "output_type": "stream",
          "name": "stdout",
          "text": [
            "Gender: 0.0067\n",
            "Age: 0.0263\n",
            "Height: 0.0012\n",
            "Weight: 0.0030\n",
            "Duration: 0.9139\n",
            "Heart_Rate: 0.0483\n",
            "Body_Temp: 0.0005\n"
          ]
        }
      ]
    }
  ]
}